{
  "nbformat": 4,
  "nbformat_minor": 0,
  "metadata": {
    "colab": {
      "provenance": [],
      "authorship_tag": "ABX9TyOlOvzaSITK902br/n5Ol0K",
      "include_colab_link": true
    },
    "kernelspec": {
      "name": "python3",
      "display_name": "Python 3"
    },
    "language_info": {
      "name": "python"
    }
  },
  "cells": [
    {
      "cell_type": "markdown",
      "metadata": {
        "id": "view-in-github",
        "colab_type": "text"
      },
      "source": [
        "<a href=\"https://colab.research.google.com/github/Afitr06/kecerdasan/blob/main/pert2lthn1.ipynb\" target=\"_parent\"><img src=\"https://colab.research.google.com/assets/colab-badge.svg\" alt=\"Open In Colab\"/></a>"
      ]
    },
    {
      "cell_type": "code",
      "execution_count": 1,
      "metadata": {
        "colab": {
          "base_uri": "https://localhost:8080/"
        },
        "id": "hP87vHyspIe2",
        "outputId": "706fdb23-0bef-4296-9be8-b0b851be160d"
      },
      "outputs": [
        {
          "output_type": "stream",
          "name": "stdout",
          "text": [
            "0 1 3 2 8 9 \n",
            "(6, 10)\n",
            "(8, 5)\n",
            "(9, 4)\n",
            "(12, 6)\n",
            "(14, 7)\n"
          ]
        }
      ],
      "source": [
        "from queue import PriorityQueue\n",
        "v = 14\n",
        "graph = [[] for i in range(v)]\n",
        "\n",
        "# Function For Implementing Best First Search\n",
        "# Gives output path having lowest cost\n",
        "\n",
        "def best_first_search(actual_Src, target, n):\n",
        "    visited = [False] * n\n",
        "    \n",
        "    pq = PriorityQueue()\n",
        "    pq.put((0, actual_Src))\n",
        "    visited[actual_Src] = True\n",
        "    \n",
        "    while pq.empty() == False:\n",
        "        u = pq.get()[1]\n",
        "        # Displaying the path having lowest cost\n",
        "        print(u, end=\" \")\n",
        "        if u == target:\n",
        "            break\n",
        "            \n",
        "        for v, c in graph[u]:\n",
        "            if visited[v] == False:\n",
        "                visited[v] = True\n",
        "                pq.put((c, v))\n",
        "                \n",
        "    print()\n",
        "    \n",
        "    # Displyaing PriorityQueue\n",
        "    printPQ(pq)\n",
        "    \n",
        "    \n",
        "def printPQ(pq):\n",
        "    while not pq.empty():\n",
        "        item = pq.get()\n",
        "        print(item)\n",
        "        \n",
        "        \n",
        "# Function for adding edges to graph\n",
        "\n",
        "def addedge(x, y, cost):\n",
        "    graph[x].append((y, cost))\n",
        "    graph[y].append((x, cost))\n",
        "    \n",
        "# implemented' using integers addedge(x,y,cost);\n",
        "addedge(0, 1, 3)\n",
        "addedge(0, 2, 6)\n",
        "addedge(0, 3, 5)\n",
        "addedge(1, 4, 9)\n",
        "addedge(1, 5, 8)\n",
        "addedge(2, 6, 12)\n",
        "addedge(2, 7, 14)\n",
        "addedge(3, 8, 7)\n",
        "addedge(8, 9, 5)\n",
        "addedge(8, 10, 6)\n",
        "addedge(9, 11, 1)\n",
        "addedge(9, 12, 10)\n",
        "addedge(9, 13, 2)\n",
        "\n",
        "\n",
        "source = 0\n",
        "target = 9\n",
        "best_first_search(source, target, v)"
      ]
    }
  ]
}